{
 "cells": [
  {
   "cell_type": "code",
   "execution_count": 1,
   "id": "157c7b94",
   "metadata": {},
   "outputs": [],
   "source": [
    "import pandas as pd\n",
    "import numpy as np\n",
    "import matplotlib.pyplot as plt\n",
    "import seaborn as sns\n",
    "import warnings\n",
    "warnings.filterwarnings('ignore')"
   ]
  },
  {
   "cell_type": "code",
   "execution_count": 2,
   "id": "f502c2fe",
   "metadata": {},
   "outputs": [],
   "source": [
    "dataset_dir = \"/Users/shrikantyalakki/Documents/PES/Sem-IV/Projects/Credit-Risk-Analysis/Data\""
   ]
  },
  {
   "cell_type": "code",
   "execution_count": 3,
   "id": "952dfea4",
   "metadata": {},
   "outputs": [
    {
     "data": {
      "text/html": [
       "<div>\n",
       "<style scoped>\n",
       "    .dataframe tbody tr th:only-of-type {\n",
       "        vertical-align: middle;\n",
       "    }\n",
       "\n",
       "    .dataframe tbody tr th {\n",
       "        vertical-align: top;\n",
       "    }\n",
       "\n",
       "    .dataframe thead th {\n",
       "        text-align: right;\n",
       "    }\n",
       "</style>\n",
       "<table border=\"1\" class=\"dataframe\">\n",
       "  <thead>\n",
       "    <tr style=\"text-align: right;\">\n",
       "      <th></th>\n",
       "      <th>SK_ID_CURR</th>\n",
       "      <th>TARGET</th>\n",
       "      <th>NAME_CONTRACT_TYPE</th>\n",
       "      <th>CODE_GENDER</th>\n",
       "      <th>FLAG_OWN_CAR</th>\n",
       "      <th>FLAG_OWN_REALTY</th>\n",
       "      <th>CNT_CHILDREN</th>\n",
       "      <th>AMT_INCOME_TOTAL</th>\n",
       "      <th>AMT_CREDIT</th>\n",
       "      <th>AMT_ANNUITY</th>\n",
       "      <th>...</th>\n",
       "      <th>DAYS_PAST_DUE_max</th>\n",
       "      <th>DAYS_PAST_DUE_mean</th>\n",
       "      <th>DAYS_PAST_DUE_sum</th>\n",
       "      <th>DAYS_PAST_DUE_count</th>\n",
       "      <th>NUM_LATE_PAYMENTS</th>\n",
       "      <th>DAYS_BEFORE_DUE_min</th>\n",
       "      <th>DAYS_BEFORE_DUE_max</th>\n",
       "      <th>DAYS_BEFORE_DUE_mean</th>\n",
       "      <th>DAYS_BEFORE_DUE_sum</th>\n",
       "      <th>DAYS_BEFORE_DUE_count</th>\n",
       "    </tr>\n",
       "  </thead>\n",
       "  <tbody>\n",
       "    <tr>\n",
       "      <th>0</th>\n",
       "      <td>100002</td>\n",
       "      <td>1</td>\n",
       "      <td>0</td>\n",
       "      <td>1</td>\n",
       "      <td>0</td>\n",
       "      <td>1</td>\n",
       "      <td>0</td>\n",
       "      <td>202500.0</td>\n",
       "      <td>406597.5</td>\n",
       "      <td>24700.5</td>\n",
       "      <td>...</td>\n",
       "      <td>0.0</td>\n",
       "      <td>0.000000</td>\n",
       "      <td>0.0</td>\n",
       "      <td>19.0</td>\n",
       "      <td>0.0</td>\n",
       "      <td>12.0</td>\n",
       "      <td>31.0</td>\n",
       "      <td>20.421053</td>\n",
       "      <td>388.0</td>\n",
       "      <td>19.0</td>\n",
       "    </tr>\n",
       "    <tr>\n",
       "      <th>1</th>\n",
       "      <td>100003</td>\n",
       "      <td>0</td>\n",
       "      <td>0</td>\n",
       "      <td>0</td>\n",
       "      <td>0</td>\n",
       "      <td>0</td>\n",
       "      <td>0</td>\n",
       "      <td>270000.0</td>\n",
       "      <td>1293502.5</td>\n",
       "      <td>35698.5</td>\n",
       "      <td>...</td>\n",
       "      <td>0.0</td>\n",
       "      <td>0.000000</td>\n",
       "      <td>0.0</td>\n",
       "      <td>25.0</td>\n",
       "      <td>0.0</td>\n",
       "      <td>1.0</td>\n",
       "      <td>14.0</td>\n",
       "      <td>7.160000</td>\n",
       "      <td>179.0</td>\n",
       "      <td>25.0</td>\n",
       "    </tr>\n",
       "    <tr>\n",
       "      <th>2</th>\n",
       "      <td>100004</td>\n",
       "      <td>0</td>\n",
       "      <td>1</td>\n",
       "      <td>1</td>\n",
       "      <td>1</td>\n",
       "      <td>1</td>\n",
       "      <td>0</td>\n",
       "      <td>67500.0</td>\n",
       "      <td>135000.0</td>\n",
       "      <td>6750.0</td>\n",
       "      <td>...</td>\n",
       "      <td>0.0</td>\n",
       "      <td>0.000000</td>\n",
       "      <td>0.0</td>\n",
       "      <td>3.0</td>\n",
       "      <td>0.0</td>\n",
       "      <td>3.0</td>\n",
       "      <td>11.0</td>\n",
       "      <td>7.666667</td>\n",
       "      <td>23.0</td>\n",
       "      <td>3.0</td>\n",
       "    </tr>\n",
       "    <tr>\n",
       "      <th>3</th>\n",
       "      <td>100006</td>\n",
       "      <td>0</td>\n",
       "      <td>0</td>\n",
       "      <td>0</td>\n",
       "      <td>0</td>\n",
       "      <td>1</td>\n",
       "      <td>0</td>\n",
       "      <td>135000.0</td>\n",
       "      <td>312682.5</td>\n",
       "      <td>29686.5</td>\n",
       "      <td>...</td>\n",
       "      <td>0.0</td>\n",
       "      <td>0.000000</td>\n",
       "      <td>0.0</td>\n",
       "      <td>16.0</td>\n",
       "      <td>0.0</td>\n",
       "      <td>1.0</td>\n",
       "      <td>77.0</td>\n",
       "      <td>19.375000</td>\n",
       "      <td>310.0</td>\n",
       "      <td>16.0</td>\n",
       "    </tr>\n",
       "    <tr>\n",
       "      <th>4</th>\n",
       "      <td>100007</td>\n",
       "      <td>0</td>\n",
       "      <td>0</td>\n",
       "      <td>1</td>\n",
       "      <td>0</td>\n",
       "      <td>1</td>\n",
       "      <td>0</td>\n",
       "      <td>121500.0</td>\n",
       "      <td>513000.0</td>\n",
       "      <td>21865.5</td>\n",
       "      <td>...</td>\n",
       "      <td>12.0</td>\n",
       "      <td>0.954545</td>\n",
       "      <td>63.0</td>\n",
       "      <td>66.0</td>\n",
       "      <td>16.0</td>\n",
       "      <td>0.0</td>\n",
       "      <td>31.0</td>\n",
       "      <td>4.590909</td>\n",
       "      <td>303.0</td>\n",
       "      <td>66.0</td>\n",
       "    </tr>\n",
       "  </tbody>\n",
       "</table>\n",
       "<p>5 rows × 246 columns</p>\n",
       "</div>"
      ],
      "text/plain": [
       "   SK_ID_CURR  TARGET  NAME_CONTRACT_TYPE  CODE_GENDER  FLAG_OWN_CAR  \\\n",
       "0      100002       1                   0            1             0   \n",
       "1      100003       0                   0            0             0   \n",
       "2      100004       0                   1            1             1   \n",
       "3      100006       0                   0            0             0   \n",
       "4      100007       0                   0            1             0   \n",
       "\n",
       "   FLAG_OWN_REALTY  CNT_CHILDREN  AMT_INCOME_TOTAL  AMT_CREDIT  AMT_ANNUITY  \\\n",
       "0                1             0          202500.0    406597.5      24700.5   \n",
       "1                0             0          270000.0   1293502.5      35698.5   \n",
       "2                1             0           67500.0    135000.0       6750.0   \n",
       "3                1             0          135000.0    312682.5      29686.5   \n",
       "4                1             0          121500.0    513000.0      21865.5   \n",
       "\n",
       "   ...  DAYS_PAST_DUE_max  DAYS_PAST_DUE_mean  DAYS_PAST_DUE_sum  \\\n",
       "0  ...                0.0            0.000000                0.0   \n",
       "1  ...                0.0            0.000000                0.0   \n",
       "2  ...                0.0            0.000000                0.0   \n",
       "3  ...                0.0            0.000000                0.0   \n",
       "4  ...               12.0            0.954545               63.0   \n",
       "\n",
       "   DAYS_PAST_DUE_count  NUM_LATE_PAYMENTS  DAYS_BEFORE_DUE_min  \\\n",
       "0                 19.0                0.0                 12.0   \n",
       "1                 25.0                0.0                  1.0   \n",
       "2                  3.0                0.0                  3.0   \n",
       "3                 16.0                0.0                  1.0   \n",
       "4                 66.0               16.0                  0.0   \n",
       "\n",
       "   DAYS_BEFORE_DUE_max  DAYS_BEFORE_DUE_mean  DAYS_BEFORE_DUE_sum  \\\n",
       "0                 31.0             20.421053                388.0   \n",
       "1                 14.0              7.160000                179.0   \n",
       "2                 11.0              7.666667                 23.0   \n",
       "3                 77.0             19.375000                310.0   \n",
       "4                 31.0              4.590909                303.0   \n",
       "\n",
       "   DAYS_BEFORE_DUE_count  \n",
       "0                   19.0  \n",
       "1                   25.0  \n",
       "2                    3.0  \n",
       "3                   16.0  \n",
       "4                   66.0  \n",
       "\n",
       "[5 rows x 246 columns]"
      ]
     },
     "execution_count": 3,
     "metadata": {},
     "output_type": "execute_result"
    }
   ],
   "source": [
    "application_train = pd.read_csv(f\"{dataset_dir}/application_train_for_data_cleaning.csv\")\n",
    "application_train.head()"
   ]
  },
  {
   "cell_type": "code",
   "execution_count": null,
   "id": "3e5b5fa4",
   "metadata": {},
   "outputs": [
    {
     "name": "stdout",
     "output_type": "stream",
     "text": [
      "total number of columns with more than 10% null values: 110\n"
     ]
    },
    {
     "data": {
      "text/plain": [
       "AMT_PAYMENT_CURRENT_mean         80.143800\n",
       "AMT_PAYMENT_CURRENT_max          80.143800\n",
       "CNT_DRAWINGS_POS_CURRENT_max     80.117784\n",
       "CNT_DRAWINGS_ATM_CURRENT_mean    80.117784\n",
       "AMT_DRAWINGS_POS_CURRENT_max     80.117784\n",
       "                                   ...    \n",
       "FLOORSMAX_AVG                    49.760822\n",
       "YEARS_BEGINEXPLUATATION_AVG      48.781019\n",
       "YEARS_BEGINEXPLUATATION_MEDI     48.781019\n",
       "YEARS_BEGINEXPLUATATION_MODE     48.781019\n",
       "TOTALAREA_MODE                   48.268517\n",
       "Length: 110, dtype: float64"
      ]
     },
     "execution_count": 4,
     "metadata": {},
     "output_type": "execute_result"
    }
   ],
   "source": [
    "null_vals = application_train.isnull().sum().sort_values(ascending=False)/application_train.shape[0] * 100 > 40\n",
    "print(\"total number of columns with more than 10% null values:\", len(null_vals[null_vals]))\n",
    "application_train[null_vals[null_vals].index.tolist()].isnull().sum().sort_values(ascending=False)/application_train.shape[0] * 100"
   ]
  },
  {
   "cell_type": "code",
   "execution_count": 5,
   "id": "0adf1d9e",
   "metadata": {},
   "outputs": [
    {
     "name": "stdout",
     "output_type": "stream",
     "text": [
      "total number of columns with more than 10% null values: 0\n"
     ]
    }
   ],
   "source": [
    "application_train[null_vals[null_vals].index.tolist()] = application_train[null_vals[null_vals].index.tolist()].fillna(0)\n",
    "# Recheck for missing values\n",
    "null_vals = application_train.isnull().sum().sort_values(ascending=False)/application_train.shape[0] * 100 > 40\n",
    "print(\"total number of columns with more than 10% null values:\", len(null_vals[null_vals]))"
   ]
  },
  {
   "cell_type": "code",
   "execution_count": 6,
   "id": "89b1655e",
   "metadata": {},
   "outputs": [
    {
     "name": "stdout",
     "output_type": "stream",
     "text": [
      "total number of columns with more than 10% null values: 20\n"
     ]
    },
    {
     "data": {
      "text/plain": [
       "EXT_SOURCE_3_TO_AGE_RATIO     19.825307\n",
       "EXT_SOURCE_3                  19.825307\n",
       "EMPLOYED_REG_RATIO            18.007161\n",
       "DAYS_EMPLOYED                 18.007161\n",
       "OVERDUE_OVERALL               14.314935\n",
       "BURO_LOAN_COUNT               14.314935\n",
       "BURO_CLOSED                   14.314935\n",
       "CREDIT_SUM_OVERALL            14.314935\n",
       "OVERDUE_DAYS_MAX              14.314935\n",
       "ANNUITY_OVERALL               14.314935\n",
       "CREDIT_TYPE_NUNIQUE           14.314935\n",
       "BB_NMONTHS                    14.314935\n",
       "BURO_ACTIVE                   14.314935\n",
       "AMT_REQ_CREDIT_BUREAU_HOUR    13.501631\n",
       "AMT_REQ_CREDIT_BUREAU_DAY     13.501631\n",
       "AMT_REQ_CREDIT_BUREAU_WEEK    13.501631\n",
       "AMT_REQ_CREDIT_BUREAU_MON     13.501631\n",
       "AMT_REQ_CREDIT_BUREAU_QRT     13.501631\n",
       "AMT_REQ_CREDIT_BUREAU_YEAR    13.501631\n",
       "EXT_SOURCES_STD               12.002497\n",
       "dtype: float64"
      ]
     },
     "execution_count": 6,
     "metadata": {},
     "output_type": "execute_result"
    }
   ],
   "source": [
    "null_vals = application_train.isnull().sum().sort_values(ascending=False)/application_train.shape[0] * 100 > 10\n",
    "print(\"total number of columns with more than 10% null values:\", len(null_vals[null_vals]))\n",
    "application_train[null_vals[null_vals].index.tolist()].isnull().sum().sort_values(ascending=False)/application_train.shape[0] * 100"
   ]
  },
  {
   "cell_type": "code",
   "execution_count": 7,
   "id": "41e6858e",
   "metadata": {},
   "outputs": [
    {
     "data": {
      "text/plain": [
       "280994    49.073973\n",
       "273069    48.172603\n",
       "208899    48.071233\n",
       "35191     48.030137\n",
       "234168    48.005479\n",
       "142446    47.041096\n",
       "143265    46.956164\n",
       "296917    46.169863\n",
       "39095     46.161644\n",
       "249164    46.126027\n",
       "Name: DAYS_EMPLOYED, dtype: float64"
      ]
     },
     "execution_count": 7,
     "metadata": {},
     "output_type": "execute_result"
    }
   ],
   "source": [
    "# application_train[\"DAYS_EMPLOYED\"].replace(365243, np.nan, inplace=True)\n",
    "application_train[\"DAYS_EMPLOYED\"].nlargest(10)/365"
   ]
  },
  {
   "cell_type": "code",
   "execution_count": 8,
   "id": "72bb5416",
   "metadata": {},
   "outputs": [],
   "source": [
    "cols_zero_impute = [\n",
    "    'EXT_SOURCE_3', 'EXT_SOURCE_3_TO_AGE_RATIO', 'EXT_SOURCES_STD',\n",
    "    'OVERDUE_OVERALL', 'BURO_LOAN_COUNT', 'BURO_CLOSED',\n",
    "    'CREDIT_SUM_OVERALL', 'OVERDUE_DAYS_MAX', 'ANNUITY_OVERALL',\n",
    "    'CREDIT_TYPE_NUNIQUE', 'BB_NMONTHS', 'BURO_ACTIVE',\n",
    "    'AMT_REQ_CREDIT_BUREAU_HOUR', 'AMT_REQ_CREDIT_BUREAU_DAY',\n",
    "    'AMT_REQ_CREDIT_BUREAU_WEEK', 'AMT_REQ_CREDIT_BUREAU_MON',\n",
    "    'AMT_REQ_CREDIT_BUREAU_QRT', 'AMT_REQ_CREDIT_BUREAU_YEAR'\n",
    "]\n",
    "\n",
    "# Impute zero where missing means absence/no record\n",
    "application_train[cols_zero_impute] = application_train[cols_zero_impute].fillna(0)\n",
    "\n",
    "\n",
    "# For DAYS_EMPLOYED and EMPLOYED_REG_RATIO, replace known anomalies with NaN and impute median\n",
    "# Example for DAYS_EMPLOYED (if still present as raw values, else handle earlier)\n",
    "if 'DAYS_EMPLOYED' in application_train.columns:\n",
    "    anomaly_val = 365243\n",
    "    application_train['DAYS_EMPLOYED'] = application_train['DAYS_EMPLOYED'].replace(anomaly_val, np.nan)\n",
    "    median_val = application_train['DAYS_EMPLOYED'].median()\n",
    "    application_train['DAYS_EMPLOYED'] = application_train['DAYS_EMPLOYED'].fillna(median_val)\n",
    "\n",
    "if 'EMPLOYED_REG_RATIO' in application_train.columns:\n",
    "    median_val = application_train['EMPLOYED_REG_RATIO'].median()\n",
    "    application_train['EMPLOYED_REG_RATIO'] = application_train['EMPLOYED_REG_RATIO'].fillna(median_val)"
   ]
  },
  {
   "cell_type": "code",
   "execution_count": 9,
   "id": "e645597b",
   "metadata": {},
   "outputs": [
    {
     "name": "stdout",
     "output_type": "stream",
     "text": [
      "total number of columns with null values: 48\n"
     ]
    },
    {
     "data": {
      "text/plain": [
       "POS_DPD_MAX                       5.875237\n",
       "POS_OVERDUE                       5.875237\n",
       "POS_STATUS_MAX                    5.875237\n",
       "POS_STATUS_MEAN                   5.875237\n",
       "POS_COUNT                         5.875237\n",
       "POS_OVERDUE_MEAN                  5.875237\n",
       "AMT_PAYMENT_max                   5.162742\n",
       "DAYS_ENTRY_PAYMENT_min            5.162742\n",
       "AMT_PAYMENT_mean                  5.162742\n",
       "AMT_PAYMENT_min                   5.162742\n",
       "DAYS_ENTRY_PAYMENT_max            5.162742\n",
       "DAYS_ENTRY_PAYMENT_mean           5.162742\n",
       "DAYS_PAST_DUE_min                 5.160141\n",
       "NUM_LATE_PAYMENTS                 5.160141\n",
       "AMT_PAYMENT_sum                   5.160141\n",
       "DAYS_BEFORE_DUE_min               5.160141\n",
       "DAYS_BEFORE_DUE_max               5.160141\n",
       "DAYS_BEFORE_DUE_mean              5.160141\n",
       "DAYS_PAST_DUE_sum                 5.160141\n",
       "DAYS_BEFORE_DUE_sum               5.160141\n",
       "DAYS_PAST_DUE_max                 5.160141\n",
       "DAYS_PAST_DUE_mean                5.160141\n",
       "DAYS_PAST_DUE_count               5.160141\n",
       "DAYS_BEFORE_DUE_count             5.160141\n",
       "AMT_INSTALMENT_max                5.160141\n",
       "NUM_INSTALMENT_VERSION_nunique    5.160141\n",
       "AMT_INSTALMENT_mean               5.160141\n",
       "DAYS_INSTALMENT_max               5.160141\n",
       "DAYS_INSTALMENT_mean              5.160141\n",
       "DAYS_INSTALMENT_min               5.160141\n",
       "AMT_INSTALMENT_min                5.160141\n",
       "AMT_INSTALMENT_sum                5.160141\n",
       "DEF_30_CNT_SOCIAL_CIRCLE          0.332021\n",
       "OBS_30_CNT_SOCIAL_CIRCLE          0.332021\n",
       "DEF_60_CNT_SOCIAL_CIRCLE          0.332021\n",
       "OBS_60_CNT_SOCIAL_CIRCLE          0.332021\n",
       "EXT_SOURCE_2_TO_AGE_RATIO         0.214626\n",
       "EXT_SOURCE_2                      0.214626\n",
       "AMT_GOODS_PRICE                   0.090403\n",
       "EXT_SOURCES_MEAN                  0.055933\n",
       "ANNUITY_INCOME_RATIO              0.003902\n",
       "ANNUITY_TO_INCOME_RATIO           0.003902\n",
       "CREDIT_TO_ANNUITY_RATIO           0.003902\n",
       "AMT_ANNUITY                       0.003902\n",
       "FAMILY_SIZE                       0.000650\n",
       "INCOME_PER_FAMILY_MEMBER          0.000650\n",
       "CNT_FAM_MEMBERS                   0.000650\n",
       "DAYS_LAST_PHONE_CHANGE            0.000325\n",
       "dtype: float64"
      ]
     },
     "execution_count": 9,
     "metadata": {},
     "output_type": "execute_result"
    }
   ],
   "source": [
    "null_vals = application_train.isnull().sum().sort_values(ascending=False)/application_train.shape[0] * 100 > 0\n",
    "print(\"total number of columns with null values:\", len(null_vals[null_vals]))\n",
    "application_train[null_vals[null_vals].index.tolist()].isnull().sum().sort_values(ascending=False)/application_train.shape[0] * 100"
   ]
  },
  {
   "cell_type": "code",
   "execution_count": 10,
   "id": "d6d8f22f",
   "metadata": {},
   "outputs": [],
   "source": [
    "# Social circle features (0.33% missing) - impute with 0\n",
    "social_cols = ['DEF_30_CNT_SOCIAL_CIRCLE', 'OBS_30_CNT_SOCIAL_CIRCLE', \n",
    "               'DEF_60_CNT_SOCIAL_CIRCLE', 'OBS_60_CNT_SOCIAL_CIRCLE']\n",
    "application_train[social_cols] = application_train[social_cols].fillna(0)\n",
    "\n",
    "# External source features (0.21% and 0.06% missing) - impute with 0\n",
    "application_train['EXT_SOURCE_2'] = application_train['EXT_SOURCE_2'].fillna(0)\n",
    "application_train['EXT_SOURCE_2_TO_AGE_RATIO'] = application_train['EXT_SOURCE_2_TO_AGE_RATIO'].fillna(0)\n",
    "application_train['EXT_SOURCES_MEAN'] = application_train['EXT_SOURCES_MEAN'].fillna(0)\n",
    "\n",
    "# Financial features (very low missing) - impute with median\n",
    "financial_cols = ['AMT_GOODS_PRICE', 'ANNUITY_INCOME_RATIO', 'ANNUITY_TO_INCOME_RATIO', \n",
    "                  'CREDIT_TO_ANNUITY_RATIO', 'AMT_ANNUITY']\n",
    "for col in financial_cols:\n",
    "    if col in application_train.columns:\n",
    "        application_train[col] = application_train[col].fillna(application_train[col].median())\n",
    "\n",
    "# Demographic features - impute with median\n",
    "demo_cols = ['FAMILY_SIZE', 'INCOME_PER_FAMILY_MEMBER', 'CNT_FAM_MEMBERS', 'DAYS_LAST_PHONE_CHANGE']\n",
    "for col in demo_cols:\n",
    "    if col in application_train.columns:\n",
    "        application_train[col] = application_train[col].fillna(application_train[col].median())\n",
    "\n",
    "# POS features (5.88% missing) - impute with 0\n",
    "pos_cols = ['POS_DPD_MAX', 'POS_OVERDUE', 'POS_STATUS_MAX', 'POS_STATUS_MEAN', \n",
    "            'POS_COUNT', 'POS_OVERDUE_MEAN']\n",
    "for col in pos_cols:\n",
    "    if col in application_train.columns:\n",
    "        application_train[col] = application_train[col].fillna(0)\n",
    "\n",
    "# Installments features (~5.16% missing) - impute with 0\n",
    "installment_cols = ['AMT_PAYMENT_max', 'DAYS_ENTRY_PAYMENT_min', 'AMT_PAYMENT_mean', \n",
    "                    'AMT_PAYMENT_min', 'DAYS_ENTRY_PAYMENT_max', 'DAYS_ENTRY_PAYMENT_mean',\n",
    "                    'DAYS_PAST_DUE_min', 'NUM_LATE_PAYMENTS', 'AMT_PAYMENT_sum',\n",
    "                    'DAYS_BEFORE_DUE_min', 'DAYS_BEFORE_DUE_max', 'DAYS_BEFORE_DUE_mean',\n",
    "                    'DAYS_PAST_DUE_sum', 'DAYS_BEFORE_DUE_sum', 'DAYS_PAST_DUE_max',\n",
    "                    'DAYS_PAST_DUE_mean', 'DAYS_PAST_DUE_count', 'DAYS_BEFORE_DUE_count',\n",
    "                    'AMT_INSTALMENT_max', 'NUM_INSTALMENT_VERSION_nunique', 'AMT_INSTALMENT_mean',\n",
    "                    'DAYS_INSTALMENT_max', 'DAYS_INSTALMENT_mean', 'DAYS_INSTALMENT_min',\n",
    "                    'AMT_INSTALMENT_min', 'AMT_INSTALMENT_sum']\n",
    "for col in installment_cols:\n",
    "    if col in application_train.columns:\n",
    "        application_train[col] = application_train[col].fillna(0)"
   ]
  },
  {
   "cell_type": "code",
   "execution_count": 11,
   "id": "08d375d9",
   "metadata": {},
   "outputs": [
    {
     "name": "stdout",
     "output_type": "stream",
     "text": [
      "total number of columns with null values: 0\n"
     ]
    },
    {
     "data": {
      "text/plain": [
       "Series([], dtype: float64)"
      ]
     },
     "execution_count": 11,
     "metadata": {},
     "output_type": "execute_result"
    }
   ],
   "source": [
    "null_vals = application_train.isnull().sum().sort_values(ascending=False)/application_train.shape[0] * 100 > 0\n",
    "print(\"total number of columns with null values:\", len(null_vals[null_vals]))\n",
    "application_train[null_vals[null_vals].index.tolist()].isnull().sum().sort_values(ascending=False)/application_train.shape[0] * 100"
   ]
  },
  {
   "cell_type": "code",
   "execution_count": null,
   "id": "2d80976c",
   "metadata": {},
   "outputs": [],
   "source": []
  },
  {
   "cell_type": "code",
   "execution_count": null,
   "id": "e1ca9f7d",
   "metadata": {},
   "outputs": [],
   "source": [
    "# Building a base model to check the impact of missing values\n",
    "from sklearn.model_selection import train_test_split\n",
    "from sklearn.linear_model import LogisticRegression\n",
    "from sklearn.metrics import roc_auc_score\n",
    "# Define features and target\n",
    "features = application_train.drop(columns=['TARGET', 'SK_ID_CURR', 'SK_ID_BUREAU', 'SK_ID_PREV'])\n",
    "target = application_train['TARGET']\n",
    "\n",
    "# Split the data into training and validation sets\n",
    "#X_train, X_val, y_train, y_val = train_test_split(features, target,\n",
    "#                                                    test_size=0.2, random_state=42, stratify=target)\n",
    "# Initialize and train the model\n",
    "model = LogisticRegression(max_iter=500, random_state=42)\n",
    "model.fit(features, target)\n",
    "# Make predictions on the validation set\n",
    "#y_pred = model.predict_proba(X_val)[:, 1]\n",
    "# Calculate ROC AUC score\n",
    "#roc_auc = roc_auc_score(y_val, y_pred)\n"
   ]
  },
  {
   "cell_type": "code",
   "execution_count": null,
   "id": "74536954",
   "metadata": {},
   "outputs": [],
   "source": []
  },
  {
   "cell_type": "code",
   "execution_count": null,
   "id": "7cafee8e",
   "metadata": {},
   "outputs": [],
   "source": []
  },
  {
   "cell_type": "code",
   "execution_count": null,
   "id": "df8a614a",
   "metadata": {},
   "outputs": [],
   "source": []
  },
  {
   "cell_type": "code",
   "execution_count": null,
   "id": "80c55df7",
   "metadata": {},
   "outputs": [],
   "source": []
  },
  {
   "cell_type": "code",
   "execution_count": null,
   "id": "ee68e6f4",
   "metadata": {},
   "outputs": [],
   "source": []
  },
  {
   "cell_type": "code",
   "execution_count": null,
   "id": "413b507d",
   "metadata": {},
   "outputs": [],
   "source": []
  },
  {
   "cell_type": "code",
   "execution_count": null,
   "id": "8c1a4ffc",
   "metadata": {},
   "outputs": [],
   "source": []
  }
 ],
 "metadata": {
  "kernelspec": {
   "display_name": "venv",
   "language": "python",
   "name": "python3"
  },
  "language_info": {
   "codemirror_mode": {
    "name": "ipython",
    "version": 3
   },
   "file_extension": ".py",
   "mimetype": "text/x-python",
   "name": "python",
   "nbconvert_exporter": "python",
   "pygments_lexer": "ipython3",
   "version": "3.13.5"
  }
 },
 "nbformat": 4,
 "nbformat_minor": 5
}
